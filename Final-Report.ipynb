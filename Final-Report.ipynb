{
 "cells": [
  {
   "cell_type": "markdown",
   "metadata": {},
   "source": [
    "# Relazione Finale\n",
    "**Gruppo - Free Data**\n",
    "\n",
    "**Componenti Gruppo - Simone Garzarella**"
   ]
  },
  {
   "cell_type": "markdown",
   "metadata": {},
   "source": [
    "# Indice\n",
    "- [1. Introduzione](#introduction)\n",
    "    - [1.1. Descrizione Problema](#problem-description)\n",
    "    - [1.2. Specifiche Hardware](#hw-specs)\n",
    "- [2. Analisi Dataset](#data-analysis)\n",
    "    - [2.1. Title Akas](#ta)\n",
    "    - [2.2. Title Basics](#tb)\n",
    "    - [2.3. Title Principals](#tp)\n",
    "    - [2.4. Title Ratings](#tr)\n",
    "    - [2.5. Name Basics](#nb)\n",
    "- [3. Job 1](#job1)\n",
    "- [4. Job 2](#job2)\n",
    "- [5. Job 3](#job3)\n",
    "- [6. Job 4](#job4)\n",
    "- [7. Risultati](#results)\n",
    "    - [7.1. Job 1](#plot1)\n",
    "    - [7.2. Job 2](#plot2)\n",
    "    - [7.3. Job 3](#plot3)\n",
    "- [8. Conclusioni](#conclusions)"
   ]
  },
  {
   "cell_type": "markdown",
   "metadata": {},
   "source": [
    "# Introduzione <a name=\"introduction\"></a>\n",
    "IMDb, acronimo di Internet Movie Database, è un sito di proprietà di Amazon che gestisce informazioni su film, attori, registi, personale di produzione, programmi televisivi e anche videogiochi.\n",
    "\n",
    "Il dataset è composto da 5 file:\n",
    "\n",
    "- title.akas.tsv\n",
    "- title.basics.tsv\n",
    "- title.principals.tsv\n",
    "- title.ratings.tsv\n",
    "- name.basics.tsv\n",
    "\n",
    "Rispettivamente essi contengono:\n",
    "\n",
    "- Elenco di film/serie tv con relative informazioni di carattere generale\n",
    "- Elenco di film/serie tv con informazioni aggiuntive\n",
    "- Informazioni sul cast del film o della serie tv\n",
    "- Informazioni sul rating del film o della serie tv\n",
    "- Informazioni aggiuntive sul cast del film o della serie tv\n",
    "\n",
    "\n",
    "\n",
    "## Descrizione Problema <a name=\"problem-description\"></a>\n",
    "Dopo una fase iniziale di analisi e processamento di dati si vogliono eseguire 4 job (descritti nel dettaglio più avanti) utilizzando Spark.\n",
    "\n",
    "I file utilizzati sono stati caricati tutti su hdfs e i job sono stati eseguiti prendendo in input i dati dal file system distribuito.\n",
    "\n",
    "Anche i risultati sono stati salvati tutti su hdfs."
   ]
  },
  {
   "cell_type": "markdown",
   "metadata": {},
   "source": [
    "## Specifiche Hardware <a name=\"hw-specs\"></a>\n",
    "I test sono stati eseguiti in locale e su cluster con macchine con queste caratteristiche:\n",
    "- **Locale:** Virtual Machine Ubuntu 21.04, CPU i7 , 6GB Ram e 100GB Hard Disk\n",
    "- **Cluster:** AWS EMR con 1 Master Node e 5 DataNode. Istanze m5.xlarge con 16GB RAM, 4 vCPU e 64GB di spazio."
   ]
  },
  {
   "cell_type": "markdown",
   "metadata": {},
   "source": [
    "# Analisi Dataset <a name=\"data-analysis\"></a>\n",
    "\n",
    "Di seguito vengono analizzati i cinque file del dataset per individuare eventuali preprocessamenti da effettuare. Inoltre viene anche descritto il processo per creare dataset più piccoli o grandi (con sampling) per effettuare i successivi test."
   ]
  },
  {
   "cell_type": "code",
   "execution_count": 6,
   "metadata": {},
   "outputs": [],
   "source": [
    "import pandas as pd"
   ]
  },
  {
   "cell_type": "markdown",
   "metadata": {},
   "source": [
    "## Title Akas <a name=\"ta\"></a>\n",
    "\n",
    "I campi di questo dataset sono:\n",
    "\n",
    "- `titleId` (string) – Identificatore alfanumerico univoco del titolo\n",
    "- `ordering` (integer) – Un numero per identificare univocamente le righe per un determinato titolo\n",
    "- `title` (string) – Il titolo del film\n",
    "- `region` (string) – La regione per questa versione del film\n",
    "- `language` (string) – La lingua del titolo\n",
    "- `types` (array) – Insieme di attributi (enumerato) per questo titolo. Uno o più tra questi: \"alternative\", \"dvd\", \"festival\", \"tv\", \"video\", \"working\", \"original\", \"imdbDisplay\".\n",
    "- `attributes` (array) – Termini aggiuntivi per descrivere il titolo (non enumerato).\n",
    "- `isOriginalTitle` (boolean) – 0: titolo non originale; 1: titolo originale.\n"
   ]
  },
  {
   "cell_type": "code",
   "execution_count": null,
   "metadata": {
    "scrolled": false
   },
   "outputs": [],
   "source": [
    "title_akas = pd.read_csv('dataset/title.akas.tsv', sep='\\t', low_memory=False)"
   ]
  },
  {
   "cell_type": "code",
   "execution_count": null,
   "metadata": {},
   "outputs": [],
   "source": [
    "title_akas"
   ]
  },
  {
   "cell_type": "code",
   "execution_count": null,
   "metadata": {},
   "outputs": [],
   "source": [
    "title_akas.nunique()"
   ]
  },
  {
   "cell_type": "markdown",
   "metadata": {},
   "source": [
    "## Title Basics <a name=\"tb\"></a>\n",
    "\n",
    "Il dataset con le informazioni sui titoli è così strutturato:\n",
    "\n",
    "- `tconst` (string) – Identificatore alfanumerico univoco del titolo\n",
    "- `titleType` (string) – Il formato/tipo del titolo (e.g. movie, short, tvseries, tvepisode, video, etc)\n",
    "- `primaryTitle` (string) – Il titolo più utilizzato e famoso / il titolo utilizzato dai creatori del film al momento del rilascio sui prodotti promozionali\n",
    "- `originalTitle` (string) – Il titolo originale nella lingua originale\n",
    "- `isAdult` (boolean) - 0: titolo non per adulti; 1: titolo per adulti\n",
    "- `startYear` (YYYY) – L’anno di pubblicazione del film / anno di inizio della serie tv\n",
    "- `endYear` (YYYY) – Anno in cui è terminata la serie tv\n",
    "- `runtimeMinutes` – Minutaggio del titolo\n",
    "- `genres` (string array) – Include fino a tre generi pertinenti con quel titolo\n"
   ]
  },
  {
   "cell_type": "code",
   "execution_count": null,
   "metadata": {
    "scrolled": false
   },
   "outputs": [],
   "source": [
    "title_basics = pd.read_csv('dataset/title.basics.tsv', sep='\\t', low_memory=False)"
   ]
  },
  {
   "cell_type": "code",
   "execution_count": null,
   "metadata": {
    "scrolled": false
   },
   "outputs": [],
   "source": [
    "title_basics"
   ]
  },
  {
   "cell_type": "code",
   "execution_count": null,
   "metadata": {
    "scrolled": true
   },
   "outputs": [],
   "source": [
    "title_basics.nunique()"
   ]
  },
  {
   "cell_type": "markdown",
   "metadata": {},
   "source": [
    "## Title Principals <a name=\"tp\"></a>\n",
    "\n",
    "Il dataset con le informazioni sul cast è così strutturato:\n",
    "\n",
    "- `tconst` (string) - Identificatore alfanumerico univoco del titolo\n",
    "- `ordering` (integer) – Un numero per identificare univocamente le righe per un determinato titolo\n",
    "- `nconst` (string) - Identificatore alfanumerico univoco per un nome/persona\n",
    "- `category` (string) – La categoria del job in cui quella persona era coinvolta\n",
    "- `job` (string) – Lo specifico job (se applicabile)\n",
    "- `characters` (string) – Il nome del personaggio interpretato da quella persona (se applicabile)\n",
    "\n"
   ]
  },
  {
   "cell_type": "code",
   "execution_count": null,
   "metadata": {
    "scrolled": false
   },
   "outputs": [],
   "source": [
    "title_principals = pd.read_csv('dataset/title.principals.tsv', sep='\\t', low_memory=False)"
   ]
  },
  {
   "cell_type": "code",
   "execution_count": null,
   "metadata": {
    "scrolled": false
   },
   "outputs": [],
   "source": [
    "title_principals"
   ]
  },
  {
   "cell_type": "code",
   "execution_count": null,
   "metadata": {
    "scrolled": true
   },
   "outputs": [],
   "source": [
    "title_basics.nunique()"
   ]
  },
  {
   "cell_type": "markdown",
   "metadata": {},
   "source": [
    "## Title Ratings <a name=\"tr\"></a>\n",
    "\n",
    "Il dataset con le informazioni sul rating è così strutturato:\n",
    "\n",
    "- `tconst` (string) - Identificatore alfanumerico univoco del titolo\n",
    "- `averageRating` – Media pesata di tutte le valutazioni degli utenti\n",
    "- `numVotes` – Numero di voti che quel titolo ha ricevuto\n",
    "\n"
   ]
  },
  {
   "cell_type": "code",
   "execution_count": null,
   "metadata": {
    "scrolled": false
   },
   "outputs": [],
   "source": [
    "title_ratings = pd.read_csv('dataset/title.ratings.tsv', sep='\\t', low_memory=False)"
   ]
  },
  {
   "cell_type": "code",
   "execution_count": null,
   "metadata": {
    "scrolled": false
   },
   "outputs": [],
   "source": [
    "title_ratings"
   ]
  },
  {
   "cell_type": "code",
   "execution_count": null,
   "metadata": {
    "scrolled": true
   },
   "outputs": [],
   "source": [
    "title_ratings.nunique()"
   ]
  },
  {
   "cell_type": "markdown",
   "metadata": {},
   "source": [
    "## Name Basics <a name=\"nb\"></a>\n",
    "\n",
    "Il dataset con le informazioni aggiuntive sul cast è così strutturato:\n",
    "\n",
    "- `nconst` (string) - Identificatore alfanumerico univoco per un nome/persona\n",
    "- `primaryName` (string) – Il nome con cui quella persona è maggiormente conosciuta\n",
    "- `birthYear` (YYYY) – Anno di nascita\n",
    "- `deathYear` (YYYY) - Anno di morte (se applicabile)\n",
    "- `primaryProfession` (array of strings) – top 3 professioni di quella persona\n",
    "- `knownForTitles` (array of tconsts) – titoli per cui quella persona è conosciuta\n"
   ]
  },
  {
   "cell_type": "code",
   "execution_count": null,
   "metadata": {
    "scrolled": false
   },
   "outputs": [],
   "source": [
    "name_basics = pd.read_csv('dataset/name.basics.tsv', sep='\\t', low_memory=False)"
   ]
  },
  {
   "cell_type": "code",
   "execution_count": null,
   "metadata": {
    "scrolled": false
   },
   "outputs": [],
   "source": [
    "name_basics"
   ]
  },
  {
   "cell_type": "code",
   "execution_count": null,
   "metadata": {
    "scrolled": true
   },
   "outputs": [],
   "source": [
    "name_basics.nunique()"
   ]
  },
  {
   "cell_type": "markdown",
   "metadata": {},
   "source": [
    "### Creazione di dataset di varie dimensioni\n",
    "\n",
    "Sono stati generati dataset di dimensioni (approssimativamente) di 256/512/1024MB, oltre al dataset originale che ha dimensioni ~1GB.\n",
    "\n",
    "I file generati (con relativa dimensione precisa) hanno nome title_akas[size].tsv\n",
    "\n",
    "- title_akas`256`.tsv &ensp;&ensp;(122.1MB)\n",
    "- title_akas`512`.tsv &ensp;&ensp;(244.2MB)\n",
    "- title_akas`1024`.tsv &ensp;(488.3MB)\n",
    "- title.akas.tsv &ensp;&ensp;&ensp;&ensp;&ensp;&ensp;&ensp;(968.4MB)\n",
    "\n",
    "La scelta dei record da includere è effettuata con un sampling randomico (con un seed preimpostato, per la ripetibiltà)"
   ]
  },
  {
   "cell_type": "markdown",
   "metadata": {},
   "source": [
    "```python\n",
    "def sample_all_sizes(name, dataset):\n",
    "    for size in dataset_sizes:\n",
    "        n_rows = round(dataset.shape[0] * size)\n",
    "        sampled_df = dataset.sample(n=n_rows, random_state=42, replace=True)\n",
    "        filename =  name + '{}.tsv'.format(int(size*2048))\n",
    "        sampled_df.to_csv(filename, index=False, sep='\\t')\n",
    "\n",
    "```"
   ]
  },
  {
   "cell_type": "markdown",
   "metadata": {},
   "source": [
    "# Job 1 - Analysis by Title <a name=\"job1\"></a>\n",
    "\n",
    "Deve generare un report contenente, per ciascuna titolo:\n",
    "\n",
    "- il nome con cui il titolo è maggiormente conosciuto\n",
    "- il numero di regioni in cui il titolo è stato pubblicato\n",
    "- l'elenco di tali regioni\n",
    "- il numero di lingue in cui il titolo è stato pubblicato\n",
    "- l'elenco di tali lingue\n",
    "\n",
    "Il report è ordinato per valori crescenti del `tconst`\n",
    "\n",
    "Es. \n",
    "(('tt0018742', 'The Cameraman'), (('Regions: 9', 'FR,DK,SE,GR,IT,BG,FI,XWG,BR'), ('Languages: 1', 'bg')))"
   ]
  },
  {
   "cell_type": "markdown",
   "metadata": {},
   "source": [
    "# Job 2 - Analysis by Year <a name=\"job2\"></a>\n",
    "\n",
    "Generare un report contenente, per ciascun anno:\n",
    "\n",
    "- il numero totale di titoli usciti in quell'anno\n",
    "- per ogni tipo di opera, il numero totale di titoli usciti in quell'anno\n",
    "- per ogni genere, il numero totale di titoli usciti in quell'anno\n",
    "- il conteggio totale dei titoli per adulti e non, usciti in quell'anno\n",
    "    \n",
    "Il report è ordinato per valori crescenti dell'anno.\n",
    "\n",
    "Es. ('Year: 1874', ((('Total: 1', 'Types: ', {'short': 1}), ('Genres: ', {'Documentary': 1, 'Short': 1})), ('Is Adult: ', {'0': 1})))"
   ]
  },
  {
   "cell_type": "markdown",
   "metadata": {},
   "source": [
    "# Job 3 - Actors Ranking <a name=\"job3\"></a>\n",
    "\n",
    "Generare una classifica degli attori che appaiono in più titoli.\n",
    "\n",
    "Per ogni attore viene visualizzato:\n",
    "\n",
    "- il suo nome\n",
    "- il numero di titoli in cui appare\n",
    "- la sua/le sue professione/i\n",
    "- i titoli per cui esso è maggiormente conosciuto\n",
    "\n",
    "Es. ('nm5744243', (('Tina Dharamsey', 2925, 'production_designer'), 'tt9025492,tt2801992,tt6978954,tt0435437'))"
   ]
  },
  {
   "cell_type": "markdown",
   "metadata": {},
   "source": [
    "# Job 4 - Rating Analysis <a name=\"job4\"></a>\n",
    "\n",
    "Genera un report contenente:\n",
    "\n",
    "- per ogni anno e per ogni genere: la media dei rating dei titoli pubblicati in quell'anno appartenenti a quel genere\n",
    "\n",
    "Es. ('1927', {'Documentary': 6.7, 'Short': 5.84, 'Comedy': 5.9, 'Music': 5.2, 'Animation': 5.15, 'Adventure': 5.0, 'Drama': 5.0, 'Fantasy': 7.1})\n",
    "\n",
    "\n"
   ]
  },
  {
   "cell_type": "markdown",
   "metadata": {},
   "source": [
    "# Risultati <a name=\"results\"></a>\n",
    "\n",
    "Di seguito vengono illustrati i risultati ottenuti eseguendo i job, sia in locale che su cluster.\n",
    "\n",
    "Inoltre vengono confrontati i tempi di esecuzione al variare delle dimensioni del dataset di input (descritte nella prima sezione)."
   ]
  },
  {
   "cell_type": "markdown",
   "metadata": {},
   "source": [
    "## Job 1 - Analysis by Title<a name=\"plot1\"></a>\n",
    "\n",
    "Risultati del primo job"
   ]
  },
  {
   "cell_type": "markdown",
   "metadata": {},
   "source": [
    "```\n",
    "(('tt0018742', 'The Cameraman'), (('Regions: 9', 'FR,DK,SE,GR,IT,BG,FI,XWG,BR'), ('Languages: 1', 'bg')))\n",
    "\n",
    "(('tt0018749', 'The Cardboard Lover'), (('Regions: 3', 'TR,IT,SUHH'), ('Languages: 2', 'tr,ru')))\n",
    "\n",
    "(('tt0018756', 'Champagne'), (('Regions: 2', 'BG,AR'), ('Languages: 1', 'bg')))\n",
    "\n",
    "(('tt0018773', 'The Circus'), (('Regions: 10', 'SUHH,CZ,PT,XWG,PL,CSHH,IT,SK,RO,UY'), ('Languages: 2', 'ru,cs')))\n",
    "\n",
    "(('tt0018836', 'The Divine Woman'), (('Regions: 7', 'US,SE,GR,AT,SUHH,PT,DK'), ('Languages: 1', 'ru')))\n",
    "\n",
    "(('tt0018844', 'Don Diego i Pelageya'), (('Regions: 1', 'SUHH'), ('Languages: 1', 'ru')))\n",
    "\n",
    "(('tt0018873', 'The Fall of the House of Usher'), (('Regions: 3', 'SUHH,GR,US'), ('Languages: 1', 'ru')))\n",
    "\n",
    "(('tt0018905', 'The Foreign Legion'), (('Regions: 2', 'TR,US'), ('Languages: 1', 'tr')))\n",
    "\n",
    "(('tt0018927', 'The Garden of Eden'), (('Regions: 5', 'SE,SUHH,US,FI,AT'), ('Languages: 1', 'ru')))\n",
    "\n",
    "(('tt0018940', 'Giuditta e Oloferne'), (('Regions: 2', 'IT,XWW'), ('Languages: 1', 'en')))\n",
    "\n",
    "(('tt0018998', 'Couple on the Move'), (('Regions: 3', 'FR,ES,XWW'), ('Languages: 1', 'en')))\n",
    "\n",
    "(('tt0019026', 'Dom v sugrobakh'), (('Regions: 2', 'SUHH,PL'), ('Languages: 1', 'ru')))\n",
    "\n",
    "(('tt0019044', 'Just Married'), (('Regions: 3', 'TR,DE,SE'), ('Languages: 1', 'tr')))\n",
    "\n",
    "(('tt0019071', 'The Last Command'), (('Regions: 10', 'DK,SUHH,SK,JP,AT,TR,SE,IT,PL,HU'), ('Languages: 2', 'tr,ru')))\n",
    "\n",
    "(('tt0019086', 'The Last Fort'), (('Regions: 1', 'XWW'), ('Languages: 1', 'en')))\n",
    "\n",
    "(('tt0019098', 'Lilac Time'), (('Regions: 9', 'PT,FR,AT,GR,IE,DK,PL,GB,SE'), ('Languages: 1', 'en')))\n",
    "\n",
    "(('tt0019130', 'The Man Who Laughs'), (('Regions: 6', 'TR,DK,CA,SUHH,GR,US'), ('Languages: 3', 'ru,tr,en')))\n",
    "\n",
    "(('tt0019168', 'Miss Edith, Duchess'), (('Regions: 4', 'PT,FR,DK,XWW'), ('Languages: 1', 'en')))\n",
    "\n",
    "...\n",
    "\n",
    "```"
   ]
  },
  {
   "cell_type": "markdown",
   "metadata": {},
   "source": [
    "Di seguito il grafico che confronta i tempi di esecuzione al variare della dimensione del dataset, sia in cluster (linee rosse) che in locale (linee blu)."
   ]
  },
  {
   "cell_type": "code",
   "execution_count": null,
   "metadata": {},
   "outputs": [],
   "source": [
    "![Analysis by Title](\"times/analysis_by_title.png\")"
   ]
  },
  {
   "cell_type": "markdown",
   "metadata": {},
   "source": [
    "## Job 2 - Analysis by Year<a name=\"plot2\"></a>\n",
    "\n",
    "Risultati del secondo job"
   ]
  },
  {
   "cell_type": "markdown",
   "metadata": {},
   "source": [
    "```\n",
    "('Year: 1874', ((('Total: 1', 'Types: ', {'short': 1}), ('Genres: ', {'Documentary': 1, 'Short': 1})), ('Is Adult: ', {'0': 1})))\n",
    "\n",
    "('Year: 1878', ((('Total: 1', 'Types: ', {'short': 1}), ('Genres: ', {'Documentary': 1, 'Short': 1})), ('Is Adult: ', {'0': 1})))\n",
    "\n",
    "('Year: 1881', ((('Total: 1', 'Types: ', {'short': 1}), ('Genres: ', {'Documentary': 1, 'Short': 1})), ('Is Adult: ', {'0': 1})))\n",
    "\n",
    "('Year: 1883', ((('Total: 1', 'Types: ', {'short': 1}), ('Genres: ', {'Documentary': 1, 'Short': 1})), ('Is Adult: ', {'0': 1})))\n",
    "\n",
    "('Year: 1885', ((('Total: 1', 'Types: ', {'short': 1}), ('Genres: ', {'Animation': 1, 'Short': 1})), ('Is Adult: ', {'0': 1})))\n",
    "\n",
    "('Year: 1887', ((('Total: 45', 'Types: ', {'short': 45}), ('Genres: ', {'Short': 45, 'Sport': 1, 'Documentary': 10, 'Animation': 28})), ('Is Adult: ', {'0': 45})))\n",
    "\n",
    "('Year: 1888', ((('Total: 5', 'Types: ', {'short': 5}), ('Genres: ', {'Short': 5, 'Documentary': 4})), ('Is Adult: ', {'0': 5})))\n",
    "\n",
    "('Year: 1889', ((('Total: 2', 'Types: ', {'short': 2}), ('Genres: ', {'Documentary': 1, 'Short': 2})), ('Is Adult: ', {'0': 2})))\n",
    "\n",
    "('Year: 1890', ((('Total: 6', 'Types: ', {'short': 6}), ('Genres: ', {'Documentary': 2, 'Short': 6})), ('Is Adult: ', {'0': 6})))\n",
    "\n",
    "('Year: 1891', ((('Total: 10', 'Types: ', {'short': 10}), ('Genres: ', {'Short': 10, 'Action': 1, 'Documentary': 3, 'Sport': 1})), ('Is Adult: ', {'0': 10})))\n",
    "\n",
    "('Year: 1892', ((('Total: 9', 'Types: ', {'short': 9}), ('Genres: ', {'Animation': 3, 'Short': 8, 'Sport': 4, 'Comedy': 1, 'Romance': 1, 'Documentary': 1})), ('Is Adult: ', {'0': 9})))\n",
    "\n",
    "('Year: 1893', ((('Total: 3', 'Types: ', {'short': 3}), ('Genres: ', {'Comedy': 1, 'Short': 3, 'Documentary': 2})), ('Is Adult: ', {'0': 3})))\n",
    "\n",
    "('Year: 1894', ((('Total: 97', 'Types: ', {'movie': 1, 'short': 96}), ('Genres: ', {'Romance': 1, 'Animation': 1, 'Short': 96, 'Drama': 1, 'Documentary': 29, 'Sport': 9, 'Comedy': 5, 'Action': 3, 'Music': 1, 'Western': 1})), ('Is Adult: ', {'0': 97})))\n",
    "\n",
    "...\n",
    "\n",
    "```"
   ]
  },
  {
   "cell_type": "markdown",
   "metadata": {},
   "source": [
    "Di seguito il grafico che confronta i tempi di esecuzione al variare della dimensione del dataset, sia in cluster (linee rosse) che in locale (linee blu)."
   ]
  },
  {
   "cell_type": "code",
   "execution_count": null,
   "metadata": {},
   "outputs": [],
   "source": [
    "![Analysis by Year](\"times/analysis_by_year.png\")"
   ]
  },
  {
   "cell_type": "markdown",
   "metadata": {},
   "source": [
    "## Job 3 - Actors Ranking <a name=\"plot3\"></a>\n",
    "Risultati del terzo job"
   ]
  },
  {
   "cell_type": "markdown",
   "metadata": {},
   "source": [
    "```\n",
    "('nm0914844', (('Reg Watson', 5310, 'writer,producer,director'), 'tt0088580,tt0140761,tt0074077,tt0101072'))\n",
    "\n",
    "\n",
    "('nm0912726', (('Tony Warren', 3870, 'writer,actor'), 'tt1261038,tt0161131,tt0053494,tt0059175'))\n",
    "\n",
    "('nm0318114', (('Johnny Gilbert', 3340, 'actor'), 'tt0105812,tt0098749,tt0083399,tt0159881'))\n",
    "\n",
    "('nm0068589', (('William J. Bell', 3326, 'writer,producer,miscellaneous'), 'tt0092325,tt0069658,tt0058796,tt0057731'))\n",
    "\n",
    "('nm0871618', (('Alex Trebek', 3168, 'producer,actor'), 'tt0106179,tt0159881,tt0117723,tt0160127'))\n",
    "\n",
    "('nm5203198', (('Zama Habib', 3104, 'writer,producer,director'), 'tt3889862,tt2316500,tt7993396,tt10798656'))\n",
    "\n",
    "('nm0068347', (('Lee Phillip Bell', 2949, 'writer,producer,actress'), 'tt1539102,tt7293086,tt0092325,tt0069658'))\n",
    "\n",
    "('nm5744243', (('Tina Dharamsey', 2925, 'production_designer'), 'tt9025492,tt2801992,tt6978954,tt0435437'))\n",
    "\n",
    "('nm0554045', (('Henrique Martins', 2815, 'director,actor'), 'tt1567252,tt0209576,tt0344195,tt0312163'))\n",
    "\n",
    "('nm0001846', (('Vanna White', 2677, 'actress,producer'), 'tt0106761,tt0110622,tt0082467,tt0081930'))\n",
    "\n",
    "('nm2276735', (('Sampurn Anand', 2619, 'writer,miscellaneous,director'), 'tt1889879,tt1888332,tt1900118,tt2387624'))\n",
    "\n",
    "('nm0001468', (('David Letterman', 2548, 'writer,producer,actor'), 'tt0106053,tt0083441,tt0119951,tt0115641'))\n",
    "\n",
    "('nm0836809', (('Adrián Suar', 2438, 'producer,writer,actor'), 'tt0205706,tt0204110,tt0456246,tt3602666'))\n",
    "\n",
    "('nm0739351', (('Carlos Romero', 2421, 'writer'), 'tt0358874,tt0243054,tt0215388,tt0211873'))\n",
    "\n",
    "('nm0276899', (('Daniel Filho', 2359, 'director,producer,actor'), 'tt0154075,tt0287625,tt0289799,tt0395994'))\n",
    "\n",
    "('nm0022750', (('Paul Alter', 2344, 'director,producer,writer'), 'tt0264464,tt0068120,tt0071063,tt0073991'))\n",
    "\n",
    "('nm0163863', (('Dick Clark', 2303, 'producer,actor,miscellaneous'), 'tt0202179,tt0185049,tt0049993,tt0270288'))\n",
    "\n",
    "...\n",
    "```"
   ]
  },
  {
   "cell_type": "markdown",
   "metadata": {},
   "source": [
    "Di seguito il grafico che confronta i tempi di esecuzione al variare della dimensione del dataset, sia in cluster (linee rosse) che in locale (linee blu)."
   ]
  },
  {
   "cell_type": "code",
   "execution_count": null,
   "metadata": {},
   "outputs": [],
   "source": [
    "![Actors Ranking](\"times/actors_ranking.png\")"
   ]
  },
  {
   "cell_type": "markdown",
   "metadata": {},
   "source": [
    "## Job 4 - Rating Analysis<a name=\"plot4\"></a>\n",
    "Risultati del quarto job"
   ]
  },
  {
   "cell_type": "markdown",
   "metadata": {},
   "source": [
    "```\n",
    "('1874', {'Documentary': 7.0, 'Short': 7.0})\n",
    "\n",
    "('1878', {'Documentary': 7.4, 'Short': 7.4})\n",
    "\n",
    "('1881', {'Documentary': 5.3, 'Short': 5.3})\n",
    "\n",
    "('1883', {'Documentary': 6.4, 'Short': 6.4})\n",
    "\n",
    "('1885', {'Animation': 5.3, 'Short': 5.3})\n",
    "\n",
    "('1887', {'Animation': 4.49, 'Short': 4.69, 'Documentary': 4.91, 'Sport': 5.0})\n",
    "\n",
    "('1888', {'Documentary': 6.3, 'Short': 6.22})\n",
    "\n",
    "('1889', {'Documentary': 5.3, 'Short': 5.4})\n",
    "\n",
    "('1890', {'Short': 5.22, 'Documentary': 5.3})\n",
    "\n",
    "('1891', {'Documentary': 4.9, 'Short': 4.93, 'Sport': 5.1, 'Action': 4.7})\n",
    "\n",
    "('1892', {'Short': 5.23, 'Sport': 4.9, 'Animation': 6.27, 'Comedy': 6.5, 'Romance': 6.5, 'Documentary': 6.0})\n",
    "\n",
    "('1893', {'Documentary': 4.4, 'Short': 4.97, 'Comedy': 6.1})\n",
    "\n",
    "('1894', {'Documentary': 5.04, 'Short': 4.91, 'Action': 5.23, 'Western': 5.1, 'Sport': 4.87, 'Comedy': 4.9, 'Music': 6.7, 'Romance': 5.4, 'Drama': 5.6, 'Animation': 6.1})\n",
    "\n",
    "('1895', {'Documentary': 4.98, 'Short': 4.94, 'Drama': 4.7, 'Comedy': 5.4, 'News': 5.2, 'Sport': 4.35, 'Sci-Fi': 5.9, 'History': 6.75, 'Crime': 5.15})\n",
    "\n",
    "('1896', {'Documentary': 4.84, 'Short': 4.83, 'Fantasy': 4.9, 'Comedy': 4.73, 'Family': 5.3, 'Drama': 4.73, 'Romance': 5.8, 'Sport': 4.43, 'Crime': 5.4, 'Horror': 6.33, 'Action': 6.4, 'News': 4.74, 'Biography': 5.1, 'Music': 4.7})\n",
    "\n",
    "...\n",
    "```"
   ]
  },
  {
   "cell_type": "markdown",
   "metadata": {},
   "source": [
    "Di seguito il grafico che confronta i tempi di esecuzione al variare della dimensione del dataset, sia in cluster (linee rosse) che in locale (linee blu)."
   ]
  },
  {
   "cell_type": "code",
   "execution_count": null,
   "metadata": {},
   "outputs": [],
   "source": [
    "![Rating Analysis](\"times/rating_analysis.png\")"
   ]
  },
  {
   "cell_type": "markdown",
   "metadata": {},
   "source": [
    "# Conclusioni <a name=\"conclusions\"></a>\n",
    "\n",
    "Per quanto riguarda la tecnologia utilizzata, Spark rimane uno standard di fatto in ambito big data, spiccando sulle altre tecnologie sia per l'efficienza, sia per la versatilità e la semplicità di utilizzo.\n",
    "\n",
    "I tempi di esecuzione dei job risultano avere la stessa andatura in locale e su cluster, riscontrando una crescita di tipo esponenziale al variare della dimensione dell'input.\n",
    "\n",
    "Su cluster si può apprezzare una diminuzione dei tempi rispetto al locale, che si nota di più per file di dimensioni maggiori o per job più onerosi. Infatti per file di dimensioni minori i tempi tra cluster e locale si equivalgono, a volte addirittura in locale le prestazioni sono migliori. Per file maggiori, soprattutto eseguendo job molto pesanti, su cluster si apprezza una notevole diminuzione dei tempi."
   ]
  },
  {
   "cell_type": "code",
   "execution_count": null,
   "metadata": {},
   "outputs": [],
   "source": []
  }
 ],
 "metadata": {
  "kernelspec": {
   "display_name": "Python 3 (ipykernel)",
   "language": "python",
   "name": "python3"
  },
  "language_info": {
   "codemirror_mode": {
    "name": "ipython",
    "version": 3
   },
   "file_extension": ".py",
   "mimetype": "text/x-python",
   "name": "python",
   "nbconvert_exporter": "python",
   "pygments_lexer": "ipython3",
   "version": "3.9.5"
  }
 },
 "nbformat": 4,
 "nbformat_minor": 4
}
